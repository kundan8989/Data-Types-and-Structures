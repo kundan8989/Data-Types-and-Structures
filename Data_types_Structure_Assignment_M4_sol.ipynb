{
 "cells": [
  {
   "cell_type": "markdown",
   "id": "4c5acf82-7e22-41a0-b05a-a8cc578a5951",
   "metadata": {},
   "source": [
    "# Theory Questions."
   ]
  },
  {
   "cell_type": "markdown",
   "id": "f38c72ea-0ef1-481d-9293-3ef33a196911",
   "metadata": {},
   "source": [
    "#### Q.1 What are data structures, and why are they important\n",
    "###### Ans-> Data structures are ways of organizing and storing data efficiently to perform operations like searching, sorting, and modifying data. They are crucial because they improve performance, optimize memory usage, and make data management easier. Examples include arrays, lists, stacks, queues, dictionaries, and trees."
   ]
  },
  {
   "cell_type": "markdown",
   "id": "1217350f-21f3-4ee3-a86a-b886de7cee84",
   "metadata": {},
   "source": [
    "##### Q. 2. Difference between mutable and immutable data types with examples:\n",
    "###### -> Mutable Data Types: Can be changed after creation. Example: lists, dictionaries, sets.\n",
    "###### ->Immutable Data Types: Cannot be changed after creation. Example: strings, tuples, integers."
   ]
  },
  {
   "cell_type": "markdown",
   "id": "2265e9f0-cecf-414e-b830-bc2c146ff637",
   "metadata": {},
   "source": [
    "#### Q 3. Differences Between Lists and Tuples\n",
    "###### ->Lists and tuples are both sequence types in Python, but they have key differences:\n",
    "##### List\n",
    "###### Lists are mutable, meaning their elements can be changed or modified after creation.\n",
    "Lists are generally slower in performance compared to tuples because of their mutability.\n",
    "##### Tuple\n",
    "Tuples are immutable, meaning they cannot be changed once created.\n",
    "Tuples are useful when data should remain constant, while lists are preferred when frequent modifications are needed."
   ]
  },
  {
   "cell_type": "markdown",
   "id": "be9e9f16-cf77-4d57-aa98-7689a6b13d22",
   "metadata": {},
   "source": [
    "#### Q 4. How Do Dictionaries Store Data?\n",
    "Dictionaries in Python store data in the form of key-value pairs using a data structure known as a hash table. Each key is hashed into a unique index, allowing for fast retrieval. This makes dictionary operations like searching, inserting, and deleting elements highly efficient.\n",
    "\n"
   ]
  },
  {
   "cell_type": "markdown",
   "id": "4eb1dbf3-3b14-4fcc-b911-c9a3ecbd924e",
   "metadata": {},
   "source": [
    "#### Q.5. Why Use a Set Instead of a List?\n",
    "A set is an unordered collection of unique elements. It is preferred over a list when:\n",
    "Duplicate values need to be eliminated automatically.\n",
    "Mathematical operations such as union and intersection need to be performed efficiently."
   ]
  },
  {
   "cell_type": "markdown",
   "id": "ae388975-6c04-4087-aea6-9c00302c442c",
   "metadata": {},
   "source": [
    "#### Q 6. What is a String, and How is it Different From a List?\n",
    "A string in Python is a sequence of characters enclosed in either single (' ') or double (\" \") quotes.\n",
    "\n",
    "Strings are immutable, meaning their contents cannot be changed after creation.\n",
    "Lists are mutable, allowing modifications such as element addition, removal, and replacement.\n",
    "Unlike lists, strings support text-specific operations like .split(), .replace(), and .upper().\n"
   ]
  },
  {
   "cell_type": "markdown",
   "id": "47026a67-c607-4552-8956-5c8fb1015cb9",
   "metadata": {},
   "source": [
    "#### Q  7. How Do Tuples Ensure Data Integrity?\n",
    "-> Tuples are immutable, meaning their data cannot be modified after creation. This makes them ideal for storing constant values that should not be accidentally changed. By ensuring immutability, tuples provide a reliable way to maintain data integrity, making them useful in scenarios like database records or function return values."
   ]
  },
  {
   "cell_type": "markdown",
   "id": "77f66844-6747-43d8-93d4-b2307cf3d06d",
   "metadata": {},
   "source": [
    "#### Q. 8. What is a Hash Table, and How Does it Relate to Dictionaries?\n",
    "A hash table is a data structure that maps keys to values using a hash function. This function computes a unique index for each key, allowing for quick data retrieval. Python dictionaries are implemented using hash tables, which enable efficient key-value storage ."
   ]
  },
  {
   "cell_type": "markdown",
   "id": "dc6a379d-ff04-450c-85a6-f3dec4f15e55",
   "metadata": {},
   "source": [
    "#### Q. 9. Can Lists Contain Different Data Types?\n",
    "Yes, Python lists can hold elements of different data types within the same list. A single list can contain integers, strings, floats, booleans, and even other lists. This flexibility makes lists powerful for handling mixed data collections."
   ]
  },
  {
   "cell_type": "markdown",
   "id": "fff4b65d-6c8b-4d1a-a99f-9b93b171e6ea",
   "metadata": {},
   "source": [
    "#### Q 10. Why Are Strings Immutable?\n",
    "Strings are immutable in Python for several reasons:\n",
    "\n",
    "###### Efficiency: Immutable objects can be optimized for performance and memory management.\n",
    "###### Security: Since strings cannot be changed, they help prevent accidental modifications in applications like password handling.\n",
    "###### Hashability: Immutable strings can be used as keys in dictionaries since their values do not change."
   ]
  },
  {
   "cell_type": "markdown",
   "id": "12e4c19e-7143-44b1-bc3e-39188c29a64c",
   "metadata": {},
   "source": [
    "#### Q.11. Advantages of Dictionaries Over Lists\n",
    "Dictionaries offer several benefits over lists in certain use cases:\n",
    "\n",
    "Faster lookups: Accessing elements in a dictionary is O(1), while searching in a list is O(n).\n",
    "Key-value pairs: Dictionaries store data with meaningful labels (keys), making retrieval more intuitive.\n",
    "Efficient data storage: When relationships between elements are important, dictionaries are more efficient than lists."
   ]
  },
  {
   "cell_type": "markdown",
   "id": "ece1e2ac-1e06-4dcc-86e2-744fcbc31839",
   "metadata": {},
   "source": [
    "#### Q.12. When to Use a Tuple Instead of a List?\n",
    "Tuples are preferred over lists in scenarios where:\n",
    "\n",
    "Data should remain unchanged (e.g., months of the year, coordinates).\n",
    "Performance is critical, as tuples are faster than lists.\n",
    "Data integrity is important, preventing accidental modifications."
   ]
  },
  {
   "cell_type": "markdown",
   "id": "e5b156c2-cf99-4289-b5e6-7fbbabb8aad6",
   "metadata": {},
   "source": [
    "#### Q.13. How Do Sets Handle Duplicate Values?\n",
    "Sets automatically eliminate duplicate values. When a set is created, Python ensures that only unique elements are stored. If duplicate values are added, they are ignored.\n",
    "\n"
   ]
  },
  {
   "cell_type": "markdown",
   "id": "d54e54a2-88f8-4e5f-baea-7c1d35eca5d7",
   "metadata": {},
   "source": [
    "#### Q.14. How Does the \"in\" Keyword Work Differently for Lists and Dictionaries?\n",
    "The in keyword is used to check membership:\n",
    "\n",
    "###### In lists, it checks whether a value exists.\n",
    "###### In dictionaries, it checks whether a key exists ."
   ]
  },
  {
   "cell_type": "markdown",
   "id": "c076a660-aae0-4ff2-a112-3d229701c37f",
   "metadata": {},
   "source": [
    "#### Q 15. Can You Modify Elements of a Tuple?\n",
    "No, tuples are immutable, meaning their elements cannot be modified once assigned. However, if a tuple contains a mutable object, such as a list, that object can be modified."
   ]
  },
  {
   "cell_type": "markdown",
   "id": "23aaf8a3-e97b-4a90-af45-5c5478d78d27",
   "metadata": {},
   "source": [
    "#### 16. What is a Nested Dictionary, and When is it Used?\n",
    "A nested dictionary is a dictionary inside another dictionary. It is useful for storing structured data. For example, in a student database, each student's information can be stored in a nested dictionary."
   ]
  },
  {
   "cell_type": "markdown",
   "id": "a94c4bbd-6378-4996-a98a-eb68909f611c",
   "metadata": {},
   "source": [
    "#### Q 17. Time Complexity of Accessing Elements in a Dictionary\n",
    "Best-case and average time complexity: O(1), due to direct key lookups using hashing.\n",
    "Worst-case time complexity: O(n), if many hash collisions occur and keys are stored in linked lists."
   ]
  },
  {
   "cell_type": "markdown",
   "id": "afdf31aa-87b0-41cf-91a1-1a939b7cab5f",
   "metadata": {},
   "source": [
    "#### Q 18. When Are Lists Preferred Over Dictionaries?\n",
    "Lists are preferred when:\n",
    "\n",
    "Data order matters (lists maintain insertion order).\n",
    "Only sequential storage is needed (without key-value relationships).\n",
    "Memory optimization is necessary, as lists require less memory than dictionaries."
   ]
  },
  {
   "cell_type": "markdown",
   "id": "92441386-b68b-41b4-b3f9-22e31aeacbfd",
   "metadata": {},
   "source": [
    "#### Q.19. Why Are Dictionaries Considered Unordered?\n",
    "Dictionaries were unordered in Python versions before 3.7, meaning elements were stored arbitrarily based on hashing. However, from Python 3.7 onwards, dictionaries preserve insertion order, though they still use hash tables for fast lookups."
   ]
  },
  {
   "cell_type": "markdown",
   "id": "19b22a62-68ca-4cf4-a975-b7cd101b7c7b",
   "metadata": {},
   "source": [
    "#### Q 20. Difference Between Lists and Dictionaries in Terms of Data Retrieval\n",
    "Lists store data sequentially, allowing retrieval using indices (O(1)).\n",
    "Dictionaries use key-value pairs, providing faster lookups (O(1) on average).\n",
    "Lists are suitable for ordered collections, while dictionaries are better for key-based storage.\n"
   ]
  },
  {
   "cell_type": "code",
   "execution_count": null,
   "id": "ff03bdf8-7e48-491d-a754-4db71bc601a9",
   "metadata": {},
   "outputs": [],
   "source": []
  },
  {
   "cell_type": "markdown",
   "id": "95b90acf-29ba-485e-8f92-fe982c89c0db",
   "metadata": {},
   "source": [
    "# Practical Questions\n"
   ]
  },
  {
   "cell_type": "code",
   "execution_count": 1,
   "id": "a7f33679-c88f-4a25-9b5e-5e2dbdeb7e8b",
   "metadata": {},
   "outputs": [
    {
     "name": "stdout",
     "output_type": "stream",
     "text": [
      "Kndan Kumar\n"
     ]
    }
   ],
   "source": [
    "# Q 1.Write a code to create a string with your name and print it.\n",
    "name=\"Kndan Kumar\"\n",
    "print(name)"
   ]
  },
  {
   "cell_type": "code",
   "execution_count": 2,
   "id": "e1814514-3dc2-4f50-a12b-659a84f881cb",
   "metadata": {},
   "outputs": [
    {
     "name": "stdout",
     "output_type": "stream",
     "text": [
      "11\n"
     ]
    }
   ],
   "source": [
    "# Q 2. Write a code to find the length of the string \"Hello World\"\n",
    "my_str=\"Hello World\"\n",
    "str_len=len(my_str)\n",
    "print(str_len)"
   ]
  },
  {
   "cell_type": "code",
   "execution_count": 3,
   "id": "739408b0-5385-4e2a-9dbe-715b45ae8a46",
   "metadata": {},
   "outputs": [
    {
     "name": "stdout",
     "output_type": "stream",
     "text": [
      "Pyt\n"
     ]
    }
   ],
   "source": [
    "# Q.3.  Write a code to slice the first 3 characters from the string \"Python Programming\"\n",
    "lang=\"Python Programming\"\n",
    "lang_slice=lang[0:3]\n",
    "print(lang_slice)"
   ]
  },
  {
   "cell_type": "code",
   "execution_count": 4,
   "id": "6bf498b4-c44e-4553-9bfb-8006165f6331",
   "metadata": {},
   "outputs": [
    {
     "name": "stdout",
     "output_type": "stream",
     "text": [
      "HELLO\n"
     ]
    }
   ],
   "source": [
    "#Q 4. Write a code to convert the string \"hello\" to uppercase.\n",
    "str_hello=\"hello\"\n",
    "str_hello_upper=str_hello.upper()\n",
    "print(str_hello_upper)"
   ]
  },
  {
   "cell_type": "code",
   "execution_count": 6,
   "id": "e0f73c5f-211e-4f1e-9529-7fa98b391f26",
   "metadata": {},
   "outputs": [
    {
     "name": "stdout",
     "output_type": "stream",
     "text": [
      "I like orange\n"
     ]
    }
   ],
   "source": [
    "# Q .5   Write a code to replace the word \"apple\" with \"orange\" in the string \"I like apple\"\n",
    "text = \"I like apple\"\n",
    "new_text = text.replace(\"apple\", \"orange\")\n",
    "print(new_text)"
   ]
  },
  {
   "cell_type": "code",
   "execution_count": 6,
   "id": "0c08d5e6-14e8-490e-9f4f-06d068e7d54e",
   "metadata": {},
   "outputs": [
    {
     "name": "stdout",
     "output_type": "stream",
     "text": [
      "1\n",
      "2\n",
      "3\n",
      "4\n",
      "5\n"
     ]
    }
   ],
   "source": [
    "#Q. 6. Write a code to create a list with numbers 1 to 5 and print it.\n",
    "my_list=[1,2,3,4,5]\n",
    "for i in my_list:\n",
    "    print(i)"
   ]
  },
  {
   "cell_type": "code",
   "execution_count": 7,
   "id": "71698e83-ec00-47ac-96a9-036995b9a5fb",
   "metadata": {},
   "outputs": [
    {
     "data": {
      "text/plain": [
       "[1, 2, 3, 4, 10]"
      ]
     },
     "execution_count": 7,
     "metadata": {},
     "output_type": "execute_result"
    }
   ],
   "source": [
    "# Q.7  Write a code to append the number 10 to the list [1, 2, 3, 4]\n",
    "a_list=[1,2,3,4]\n",
    "a_list.append(10)\n",
    "a_list"
   ]
  },
  {
   "cell_type": "code",
   "execution_count": 8,
   "id": "e5d5d0e5-c451-4e58-aaec-29ac22c746e8",
   "metadata": {},
   "outputs": [
    {
     "data": {
      "text/plain": [
       "[1, 2, 4, 5]"
      ]
     },
     "execution_count": 8,
     "metadata": {},
     "output_type": "execute_result"
    }
   ],
   "source": [
    "# Q.8 Write a code to remove the number 3 from the list [1, 2, 3, 4, 5]\n",
    "r_list=[1,2,3,4,5]\n",
    "r_list.remove(3)\n",
    "r_list"
   ]
  },
  {
   "cell_type": "code",
   "execution_count": 9,
   "id": "7492e12e-4f37-4c7a-805d-884e13c8cbf5",
   "metadata": {},
   "outputs": [
    {
     "name": "stdout",
     "output_type": "stream",
     "text": [
      "b\n"
     ]
    }
   ],
   "source": [
    "#Q.9  Write a code to access the second element in the list ['a', 'b', 'c', 'd']\n",
    "nd_list=['a','b','c','d']\n",
    "nd_element=nd_list[1]\n",
    "print(nd_element)"
   ]
  },
  {
   "cell_type": "code",
   "execution_count": 10,
   "id": "3cb17422-50ba-4020-b031-d498aa674a50",
   "metadata": {},
   "outputs": [
    {
     "name": "stdout",
     "output_type": "stream",
     "text": [
      "50\n",
      "40\n",
      "30\n",
      "20\n",
      "10\n"
     ]
    }
   ],
   "source": [
    "# Q.10   Write a code to reverse the list [10, 20, 30, 40, 50]\n",
    "rev_list=[10, 20, 30, 40, 50]\n",
    "length=len(rev_list)\n",
    "for i in range(1,length+1):\n",
    "    print(rev_list[-i])"
   ]
  },
  {
   "cell_type": "code",
   "execution_count": 11,
   "id": "eebc7307-76a0-449d-b9a9-aced903b1914",
   "metadata": {},
   "outputs": [
    {
     "name": "stdout",
     "output_type": "stream",
     "text": [
      "100\n",
      "200\n",
      "300\n"
     ]
    }
   ],
   "source": [
    "# Q .11. Write a code to create a tuple with the elements 100, 200, 300 and print it.\n",
    "my_tuple=(100,200,300)\n",
    "for i in my_tuple:\n",
    "    print(i)"
   ]
  },
  {
   "cell_type": "code",
   "execution_count": 12,
   "id": "d17b1852-2db2-4f32-aad5-db69e1e65881",
   "metadata": {},
   "outputs": [
    {
     "name": "stdout",
     "output_type": "stream",
     "text": [
      "blue\n"
     ]
    }
   ],
   "source": [
    "# Q.12  Write a code to access the second-to-last element of the tuple ('red', 'green', 'blue', 'yellow').\n",
    "colour_tuple=('red', 'green', 'blue', 'yellow')\n",
    "second_to_last=colour_tuple[-2]\n",
    "print(second_to_last)"
   ]
  },
  {
   "cell_type": "code",
   "execution_count": 13,
   "id": "cbeb51f1-e5fd-413e-9567-3f72358e6a43",
   "metadata": {},
   "outputs": [
    {
     "name": "stdout",
     "output_type": "stream",
     "text": [
      "5\n"
     ]
    }
   ],
   "source": [
    "# Q.13  Write a code to find the minimum number in the tuple (10, 20, 5, 15).\n",
    "tup= (10, 20, 5, 15)\n",
    "min_tup=min(tup)\n",
    "print(min_tup)"
   ]
  },
  {
   "cell_type": "code",
   "execution_count": 14,
   "id": "d55f5145-f706-4550-97b2-98e20e5d1c5a",
   "metadata": {},
   "outputs": [
    {
     "name": "stdout",
     "output_type": "stream",
     "text": [
      "Index of element cat is 1\n"
     ]
    }
   ],
   "source": [
    "# Q 14. Write a code to find the index of the element \"cat\" in the tuple ('dog', 'cat', 'rabbit').\n",
    "animal_tup=('dog', 'cat', 'rabbit')\n",
    "len_tup=len(animal_tup)\n",
    "for i in range(len_tup):\n",
    "    if (animal_tup[i]=='cat'):\n",
    "        print(\"Index of element cat is\",i)\n",
    "    "
   ]
  },
  {
   "cell_type": "code",
   "execution_count": 20,
   "id": "bfa47069-b8e1-40ba-a66b-a8d002bddabb",
   "metadata": {},
   "outputs": [
    {
     "name": "stdout",
     "output_type": "stream",
     "text": [
      "kiwi is in it\n"
     ]
    }
   ],
   "source": [
    "# Q.15 Write a code to create a tuple containing three different fruits and check if \"kiwi\" is in it.\n",
    "fruit_tup=('malta','kiwi','mango')\n",
    "fr_length=len(fruit_tup)\n",
    "for i in range(fr_length):\n",
    "    if (fruit_tup[i]=='kiwi'):\n",
    "        print(\"kiwi is in it\")\n",
    "        break\n"
   ]
  },
  {
   "cell_type": "code",
   "execution_count": 32,
   "id": "7d5bf179-bc2c-4856-b78a-642d089fa671",
   "metadata": {},
   "outputs": [
    {
     "name": "stdout",
     "output_type": "stream",
     "text": [
      "b\n",
      "a\n",
      "c\n"
     ]
    }
   ],
   "source": [
    "# Q.16 Write a code to create a set with the elements 'a', 'b', 'c' and print it.\n",
    "my_set={'a','b','c'}\n",
    "for i in my_set:\n",
    "    print(i)"
   ]
  },
  {
   "cell_type": "code",
   "execution_count": 60,
   "id": "87ea3c0c-1e29-46d1-a004-6910b54c2c48",
   "metadata": {},
   "outputs": [
    {
     "name": "stdout",
     "output_type": "stream",
     "text": [
      "set()\n"
     ]
    }
   ],
   "source": [
    "# Q.17  Write a code to clear all elements from the set {1, 2, 3, 4, 5}.\n",
    "new_set={1, 2, 3, 4, 5}\n",
    "new_set.clear()\n",
    "print(new_set)"
   ]
  },
  {
   "cell_type": "code",
   "execution_count": 54,
   "id": "d8445c21-e958-4b26-b1e3-d680f3a19c00",
   "metadata": {},
   "outputs": [
    {
     "name": "stdout",
     "output_type": "stream",
     "text": [
      "{1, 2, 3}\n"
     ]
    }
   ],
   "source": [
    "# Q. 18. Write a code to remove the element 4 from the set {1, 2, 3, 4}.\n",
    "my_n_set = {1, 2, 3, 4}\n",
    "my_n_set.remove(4) \n",
    "print(my_n_set)"
   ]
  },
  {
   "cell_type": "code",
   "execution_count": 55,
   "id": "65394a11-dd7d-48c4-9ec0-3b0963dec991",
   "metadata": {},
   "outputs": [
    {
     "name": "stdout",
     "output_type": "stream",
     "text": [
      "{1, 2, 3, 4, 5}\n"
     ]
    }
   ],
   "source": [
    "# Q.19. Write a code to find the union of two sets {1, 2, 3} and {3, 4, 5}\n",
    "set1 = {1, 2, 3}\n",
    "set2 = {3, 4, 5}\n",
    "\n",
    "union_set = set1.union(set2)\n",
    "print(union_set)"
   ]
  },
  {
   "cell_type": "code",
   "execution_count": 58,
   "id": "f84529ba-0980-4233-93bf-719b15512414",
   "metadata": {},
   "outputs": [
    {
     "name": "stdout",
     "output_type": "stream",
     "text": [
      "{2, 3}\n"
     ]
    }
   ],
   "source": [
    "# Q.20. Write a code to find the intersection of two sets {1, 2, 3} and {2, 3, 4}.\n",
    "set1_new = {1, 2, 3}\n",
    "set2_new= {2, 3, 4}\n",
    "\n",
    "intersection_set = set1_new.intersection(set2_new)\n",
    "print(intersection_set)"
   ]
  },
  {
   "cell_type": "code",
   "execution_count": 63,
   "id": "76527fd7-9141-4811-bc29-b797301951a2",
   "metadata": {},
   "outputs": [
    {
     "name": "stdout",
     "output_type": "stream",
     "text": [
      "{'name': 'Kundan', 'age': '22', 'city': 'Raxaul'}\n"
     ]
    }
   ],
   "source": [
    "# Q 21. Write a code to create a dictionary with the keys \"name\", \"age\", and \"city\", and print it.\n",
    "dat={\"name\":\"Kundan\",\n",
    "    \"age\":\"22\",\n",
    "    \"city\":\"Raxaul\"}\n",
    "print(dat)"
   ]
  },
  {
   "cell_type": "code",
   "execution_count": 45,
   "id": "b7cf754b-8256-4c22-80af-3926a0a44cc3",
   "metadata": {},
   "outputs": [
    {
     "name": "stdout",
     "output_type": "stream",
     "text": [
      "{'name': 'John', 'age': 25, 'country': 'USA'}\n"
     ]
    }
   ],
   "source": [
    "# Q 22. Write a code to add a new key-value pair \"country\": \"USA\" to the dictionary {'name': 'John', 'age': 25}.\n",
    "my_data={'name': 'John',\n",
    "         'age': 25}\n",
    "my_data['country']='USA' \n",
    "print(my_data)"
   ]
  },
  {
   "cell_type": "code",
   "execution_count": 65,
   "id": "f9472f5c-7f07-42e0-9241-85f25f090407",
   "metadata": {},
   "outputs": [
    {
     "data": {
      "text/plain": [
       "'Alice'"
      ]
     },
     "execution_count": 65,
     "metadata": {},
     "output_type": "execute_result"
    }
   ],
   "source": [
    "# Q.23. Write a code to access the value associated with the key \"name\" in the dictionary {'name': 'Alice', 'age': 30}.\n",
    "data2={'name': 'Alice', 'age': 30}\n",
    "name=data2['name']\n",
    "name"
   ]
  },
  {
   "cell_type": "code",
   "execution_count": 69,
   "id": "d0d6f855-cc4b-48a2-80a9-26e8019c9aa8",
   "metadata": {},
   "outputs": [
    {
     "name": "stdout",
     "output_type": "stream",
     "text": [
      "{'name': 'Bob', 'city': 'New York'}\n"
     ]
    }
   ],
   "source": [
    "# Q.24. Write a code to remove the key \"age\" from the dictionary {'name': 'Bob', 'age': 22, 'city': 'New York'}.\n",
    "\n",
    "data3= {'name': 'Bob', 'age': 22, 'city': 'New York'}\n",
    "data3.pop('age')  # Removing the key \"age\"\n",
    "print(data3)"
   ]
  },
  {
   "cell_type": "code",
   "execution_count": null,
   "id": "90837c42-d9c1-4a56-a747-921e423c079d",
   "metadata": {},
   "outputs": [],
   "source": [
    "# Q.25. Write a code to check if the key \"city\" exists in the dictionary {'name': 'Alice', 'city': 'Paris'}."
   ]
  },
  {
   "cell_type": "code",
   "execution_count": 70,
   "id": "1f2e3286-281b-4384-929d-0b97025c8c56",
   "metadata": {},
   "outputs": [
    {
     "name": "stdout",
     "output_type": "stream",
     "text": [
      "[1, 2, 3, 4, 5] ('a', 'b', 'c') {1: 'name', 2: 'age'}\n"
     ]
    }
   ],
   "source": [
    "# Q.26. Write a code to create a list, a tuple, and a dictionary, and print them all.\n",
    "m_list=[1,2,3,4,5]\n",
    "m_tuple=(\"a\",\"b\",\"c\")\n",
    "m_dict={1:\"name\",\n",
    "       2:\"age\"}\n",
    "\n",
    "print(m_list,m_tuple,m_dict)"
   ]
  },
  {
   "cell_type": "code",
   "execution_count": 71,
   "id": "c18b1b8a-03aa-4af6-8a79-ec81f75bce38",
   "metadata": {},
   "outputs": [
    {
     "name": "stdout",
     "output_type": "stream",
     "text": [
      "[27, 62, 69, 77, 91]\n"
     ]
    }
   ],
   "source": [
    "# Q.27. Write a code to create a list of 5 random numbers between 1 and 100, sort it in ascending order, and print the  result.(replaced)\n",
    "import random\n",
    "\n",
    "random_numbers = random.sample(range(1, 101), 5)\n",
    "random_numbers.sort()\n",
    "print(random_numbers)\n"
   ]
  },
  {
   "cell_type": "code",
   "execution_count": 47,
   "id": "abe8f58f-77dc-446a-805e-e83b41640abb",
   "metadata": {},
   "outputs": [
    {
     "name": "stdout",
     "output_type": "stream",
     "text": [
      "d\n"
     ]
    }
   ],
   "source": [
    "# Q. 28. Write a code to create a list with strings and print the element at the third index.\n",
    "n_list=[\"a\",\"b\",\"c\",\"d\",\"e\"]\n",
    "index_3rd=n_list[3]\n",
    "print(index_3rd)"
   ]
  },
  {
   "cell_type": "code",
   "execution_count": 50,
   "id": "2e91d47c-c048-46ac-964e-3c24561c361b",
   "metadata": {},
   "outputs": [
    {
     "name": "stdout",
     "output_type": "stream",
     "text": [
      "{1: 'a', 2: 'b', 3: 'c', 4: 'd'}\n"
     ]
    }
   ],
   "source": [
    "# Q.29. Write a code to combine two dictionaries into one and print the result.\n",
    "dict_1={1:'a',\n",
    "       2:'b'}\n",
    "\n",
    "dict_2={3:'c',\n",
    "       4:'d'}\n",
    "\n",
    "dict_1.update(dict_2)  \n",
    "print(dict_1)"
   ]
  },
  {
   "cell_type": "code",
   "execution_count": 34,
   "id": "baf436c1-5944-4b69-bbaa-827a11021d05",
   "metadata": {},
   "outputs": [
    {
     "data": {
      "text/plain": [
       "{'a', 'b', 'c'}"
      ]
     },
     "execution_count": 34,
     "metadata": {},
     "output_type": "execute_result"
    }
   ],
   "source": [
    "# Q.30. Write a code to convert a list of strings into a set.\n",
    "lis=['a','b','c']\n",
    "new_set=set(lis)\n",
    "new_set"
   ]
  }
 ],
 "metadata": {
  "kernelspec": {
   "display_name": "Python 3 (ipykernel)",
   "language": "python",
   "name": "python3"
  },
  "language_info": {
   "codemirror_mode": {
    "name": "ipython",
    "version": 3
   },
   "file_extension": ".py",
   "mimetype": "text/x-python",
   "name": "python",
   "nbconvert_exporter": "python",
   "pygments_lexer": "ipython3",
   "version": "3.12.6"
  }
 },
 "nbformat": 4,
 "nbformat_minor": 5
}
